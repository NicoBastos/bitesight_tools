{
 "cells": [
  {
   "cell_type": "code",
   "execution_count": 1,
   "metadata": {},
   "outputs": [
    {
     "ename": "ImportError",
     "evalue": "cannot import name 'VideoAssetForm' from 'models' (c:\\Users\\nickb\\OneDrive\\Documents\\B2C_Tools\\downloaderAPI\\models.py)",
     "output_type": "error",
     "traceback": [
      "\u001b[1;31m---------------------------------------------------------------------------\u001b[0m",
      "\u001b[1;31mImportError\u001b[0m                               Traceback (most recent call last)",
      "\u001b[1;32mc:\\Users\\nickb\\OneDrive\\Documents\\B2C_Tools\\downloaderAPI\\downloader.ipynb Cell 1\u001b[0m line \u001b[0;36m1\n\u001b[0;32m     <a href='vscode-notebook-cell:/c%3A/Users/nickb/OneDrive/Documents/B2C_Tools/downloaderAPI/downloader.ipynb#W0sZmlsZQ%3D%3D?line=9'>10</a>\u001b[0m \u001b[39mfrom\u001b[39;00m \u001b[39msupabase\u001b[39;00m \u001b[39mimport\u001b[39;00m create_client, Client\n\u001b[0;32m     <a href='vscode-notebook-cell:/c%3A/Users/nickb/OneDrive/Documents/B2C_Tools/downloaderAPI/downloader.ipynb#W0sZmlsZQ%3D%3D?line=10'>11</a>\u001b[0m \u001b[39mimport\u001b[39;00m \u001b[39minstaloader\u001b[39;00m\n\u001b[1;32m---> <a href='vscode-notebook-cell:/c%3A/Users/nickb/OneDrive/Documents/B2C_Tools/downloaderAPI/downloader.ipynb#W0sZmlsZQ%3D%3D?line=11'>12</a>\u001b[0m \u001b[39mfrom\u001b[39;00m \u001b[39mmodels\u001b[39;00m \u001b[39mimport\u001b[39;00m VideoAssetForm, Restaurant\n\u001b[0;32m     <a href='vscode-notebook-cell:/c%3A/Users/nickb/OneDrive/Documents/B2C_Tools/downloaderAPI/downloader.ipynb#W0sZmlsZQ%3D%3D?line=13'>14</a>\u001b[0m \u001b[39mimport\u001b[39;00m \u001b[39mmux_python\u001b[39;00m\n\u001b[0;32m     <a href='vscode-notebook-cell:/c%3A/Users/nickb/OneDrive/Documents/B2C_Tools/downloaderAPI/downloader.ipynb#W0sZmlsZQ%3D%3D?line=14'>15</a>\u001b[0m \u001b[39mfrom\u001b[39;00m \u001b[39mmux_python\u001b[39;00m\u001b[39m.\u001b[39;00m\u001b[39mrest\u001b[39;00m \u001b[39mimport\u001b[39;00m ApiException\n",
      "\u001b[1;31mImportError\u001b[0m: cannot import name 'VideoAssetForm' from 'models' (c:\\Users\\nickb\\OneDrive\\Documents\\B2C_Tools\\downloaderAPI\\models.py)"
     ]
    }
   ],
   "source": [
    "import os\n",
    "import shutil\n",
    "from pathlib import Path\n",
    "from datetime import datetime\n",
    "\n",
    "from dotenv import load_dotenv\n",
    "from fastapi import FastAPI, HTTPException\n",
    "from fastapi.middleware.cors import CORSMiddleware\n",
    "import requests\n",
    "from supabase import create_client, Client\n",
    "import instaloader\n",
    "from models import VideoAssetForm, Restaurant\n",
    "\n",
    "import mux_python\n",
    "from mux_python.rest import ApiException\n",
    "\n",
    "\n",
    "# Load environment variables\n",
    "load_dotenv()\n",
    "\n",
    "# Constants\n",
    "SUPABASE_URL: str = os.environ.get('NICO_SUPABASE_URL')\n",
    "SUPABASE_KEY: str = os.environ.get('NICO_API_KEY')\n",
    "SUPABASE_BUCKET: str = 'bucket'\n",
    "RESTAURANT_CONCEPT_TABLE: str = \"restaurant_concept\"\n",
    "VIDEO_METADATA_TABLE: str = \"video_meta_data\"\n",
    "DOWNLOADS_DIR: Path = Path('downloads')\n",
    "\n",
    "configuration = mux_python.Configuration()\n",
    "configuration.username = os.getenv('MUX_TOKEN_ID')\n",
    "configuration.password = os.getenv('MUX_TOKEN_SECRET')\n",
    "\n",
    "def handle_instagram_download(post_url: str) -> Path | None:\n",
    "    \"\"\"Download video from Instagram post URL.\n",
    "    \n",
    "    Args:\n",
    "        post_url (str): The URL of the Instagram post.\n",
    "\n",
    "    Returns:\n",
    "        Union[Path, None]: The path to the downloaded video or None if not found.\n",
    "    \"\"\"\n",
    "    loader = instaloader.Instaloader(download_pictures=False, download_videos=True, download_video_thumbnails=False, download_geotags=False, download_comments=False)\n",
    "    shortcode = post_url.split(\"/\")[-2]\n",
    "    post = instaloader.Post.from_shortcode(loader.context, shortcode)\n",
    "\n",
    "    if not post.is_video:\n",
    "        return None\n",
    "\n",
    "    target_directory = Path(f\"downloads/{post.shortcode}\")\n",
    "    target_directory.mkdir(parents=True, exist_ok=True)\n",
    "    loader.download_post(post, target=target_directory)\n",
    "\n",
    "    for file in target_directory.iterdir():\n",
    "        if file.is_file() and file.suffix == '.mp4':\n",
    "            return file\n",
    "\n",
    "    return None\n",
    "\n",
    "def delete_file_and_siblings(file_path: Path):\n",
    "    # Delete the file\n",
    "    file_path.unlink()\n",
    "    \n",
    "    # Get the parent directory\n",
    "    parent_dir = file_path.parent\n",
    "    \n",
    "    # Delete all sibling files\n",
    "    for sibling_file in parent_dir.iterdir():\n",
    "        if sibling_file.is_file():\n",
    "            sibling_file.unlink()\n",
    "            \n",
    "    # Delete the parent directory\n",
    "    shutil.rmtree(parent_dir)\n",
    "\n",
    "# Initialize Supabase client\n",
    "supabase: Client = create_client(SUPABASE_URL, SUPABASE_KEY)"
   ]
  },
  {
   "cell_type": "code",
   "execution_count": null,
   "metadata": {},
   "outputs": [],
   "source": [
    "# Create a Mux API client for direct uploads\n",
    "direct_uploads_api = mux_python.DirectUploadsApi(mux_python.ApiClient(configuration))\n",
    "\n",
    "# Create a new Direct Upload\n",
    "create_asset_request = mux_python.CreateAssetRequest(playback_policy=[mux_python.PlaybackPolicy.PUBLIC])\n",
    "create_upload_request = mux_python.CreateUploadRequest(new_asset_settings=create_asset_request, cors_origin='*')\n",
    "create_upload_response = direct_uploads_api.create_direct_upload(create_upload_request)\n"
   ]
  },
  {
   "cell_type": "code",
   "execution_count": null,
   "metadata": {},
   "outputs": [],
   "source": [
    "restaurant_concept_data, count = supabase.table(\"restaurant_concept\")\\\n",
    "        .select(\"*\")\\\n",
    "        .eq(\"concept_name\", \"restaurant ee\")\\\n",
    "        .execute()\n",
    "\n",
    "        \n",
    "\n",
    "if len(restaurant_concept_data[1]) < 1:\n",
    "    # # Insert a new concept if none was found\n",
    "    restaurant_concept_data, count = supabase.table(\"restaurant_concept\").insert({\"concept_name\": \"restaurant_concept\"}).execute()\n",
    "\n",
    "restaurant_concept_id = restaurant_concept_data[1][0]['restaurant_concept_id']\n",
    "\n",
    "\n",
    "\n",
    "downloaded_video = handle_instagram_download(\"https://www.instagram.com/reel/C1VBM5RxoAP/\")"
   ]
  },
  {
   "cell_type": "code",
   "execution_count": 18,
   "metadata": {},
   "outputs": [
    {
     "ename": "ApiValueError",
     "evalue": "Missing the required parameter `asset_id` when calling `get_asset`",
     "output_type": "error",
     "traceback": [
      "\u001b[1;31m---------------------------------------------------------------------------\u001b[0m",
      "\u001b[1;31mApiValueError\u001b[0m                             Traceback (most recent call last)",
      "\u001b[1;32mc:\\Users\\nickb\\OneDrive\\Documents\\B2C_Tools\\downloaderAPI\\downloader.ipynb Cell 4\u001b[0m line \u001b[0;36m3\n\u001b[0;32m     <a href='vscode-notebook-cell:/c%3A/Users/nickb/OneDrive/Documents/B2C_Tools/downloaderAPI/downloader.ipynb#W3sZmlsZQ%3D%3D?line=27'>28</a>\u001b[0m mux_asset_id \u001b[39m=\u001b[39m upload_response\u001b[39m.\u001b[39mdata\u001b[39m.\u001b[39masset_id\n\u001b[0;32m     <a href='vscode-notebook-cell:/c%3A/Users/nickb/OneDrive/Documents/B2C_Tools/downloaderAPI/downloader.ipynb#W3sZmlsZQ%3D%3D?line=29'>30</a>\u001b[0m \u001b[39m# Get the asset details\u001b[39;00m\n\u001b[1;32m---> <a href='vscode-notebook-cell:/c%3A/Users/nickb/OneDrive/Documents/B2C_Tools/downloaderAPI/downloader.ipynb#W3sZmlsZQ%3D%3D?line=30'>31</a>\u001b[0m asset \u001b[39m=\u001b[39m assets_api\u001b[39m.\u001b[39;49mget_asset(mux_asset_id)\n\u001b[0;32m     <a href='vscode-notebook-cell:/c%3A/Users/nickb/OneDrive/Documents/B2C_Tools/downloaderAPI/downloader.ipynb#W3sZmlsZQ%3D%3D?line=32'>33</a>\u001b[0m \u001b[39m# Now you can access the playback_ids\u001b[39;00m\n\u001b[0;32m     <a href='vscode-notebook-cell:/c%3A/Users/nickb/OneDrive/Documents/B2C_Tools/downloaderAPI/downloader.ipynb#W3sZmlsZQ%3D%3D?line=33'>34</a>\u001b[0m mux_playback_id \u001b[39m=\u001b[39m asset\u001b[39m.\u001b[39mdata\u001b[39m.\u001b[39mplayback_ids[\u001b[39m0\u001b[39m]\u001b[39m.\u001b[39mid\n",
      "File \u001b[1;32m~\\AppData\\Roaming\\Python\\Python311\\site-packages\\mux_python\\api\\assets_api.py:916\u001b[0m, in \u001b[0;36mAssetsApi.get_asset\u001b[1;34m(self, asset_id, **kwargs)\u001b[0m\n\u001b[0;32m    889\u001b[0m \u001b[39m\u001b[39m\u001b[39m\"\"\"Retrieve an asset  # noqa: E501\u001b[39;00m\n\u001b[0;32m    890\u001b[0m \n\u001b[0;32m    891\u001b[0m \u001b[39mRetrieves the details of an asset that has previously been created. Supply the unique asset ID that was returned from your previous request, and Mux will return the corresponding asset information. The same information is returned when creating an asset.  # noqa: E501\u001b[39;00m\n\u001b[1;32m   (...)\u001b[0m\n\u001b[0;32m    913\u001b[0m \u001b[39m:rtype: AssetResponse\u001b[39;00m\n\u001b[0;32m    914\u001b[0m \u001b[39m\"\"\"\u001b[39;00m\n\u001b[0;32m    915\u001b[0m kwargs[\u001b[39m'\u001b[39m\u001b[39m_return_http_data_only\u001b[39m\u001b[39m'\u001b[39m] \u001b[39m=\u001b[39m \u001b[39mTrue\u001b[39;00m\n\u001b[1;32m--> 916\u001b[0m \u001b[39mreturn\u001b[39;00m \u001b[39mself\u001b[39;49m\u001b[39m.\u001b[39;49mget_asset_with_http_info(asset_id, \u001b[39m*\u001b[39;49m\u001b[39m*\u001b[39;49mkwargs)\n",
      "File \u001b[1;32m~\\AppData\\Roaming\\Python\\Python311\\site-packages\\mux_python\\api\\assets_api.py:979\u001b[0m, in \u001b[0;36mAssetsApi.get_asset_with_http_info\u001b[1;34m(self, asset_id, **kwargs)\u001b[0m\n\u001b[0;32m    976\u001b[0m \u001b[39m# verify the required parameter 'asset_id' is set\u001b[39;00m\n\u001b[0;32m    977\u001b[0m \u001b[39mif\u001b[39;00m \u001b[39mself\u001b[39m\u001b[39m.\u001b[39mapi_client\u001b[39m.\u001b[39mclient_side_validation \u001b[39mand\u001b[39;00m (\u001b[39m'\u001b[39m\u001b[39masset_id\u001b[39m\u001b[39m'\u001b[39m \u001b[39mnot\u001b[39;00m \u001b[39min\u001b[39;00m local_var_params \u001b[39mor\u001b[39;00m  \u001b[39m# noqa: E501\u001b[39;00m\n\u001b[0;32m    978\u001b[0m                                                 local_var_params[\u001b[39m'\u001b[39m\u001b[39masset_id\u001b[39m\u001b[39m'\u001b[39m] \u001b[39mis\u001b[39;00m \u001b[39mNone\u001b[39;00m):  \u001b[39m# noqa: E501\u001b[39;00m\n\u001b[1;32m--> 979\u001b[0m     \u001b[39mraise\u001b[39;00m ApiValueError(\u001b[39m\"\u001b[39m\u001b[39mMissing the required parameter `asset_id` when calling `get_asset`\u001b[39m\u001b[39m\"\u001b[39m)  \u001b[39m# noqa: E501\u001b[39;00m\n\u001b[0;32m    981\u001b[0m collection_formats \u001b[39m=\u001b[39m {}\n\u001b[0;32m    983\u001b[0m path_params \u001b[39m=\u001b[39m {}\n",
      "\u001b[1;31mApiValueError\u001b[0m: Missing the required parameter `asset_id` when calling `get_asset`"
     ]
    }
   ],
   "source": [
    "\n",
    "# print(\"video: \", downloaded_video)x``\n",
    "import time\n",
    "\n",
    "\n",
    "if downloaded_video is not None:\n",
    "    timestamp = datetime.now().strftime(\"%Y%m%d_%H%M%S\")\n",
    "    new_video_filename = f\"{downloaded_video.stem}_{timestamp}{downloaded_video.suffix}\"\n",
    "\n",
    "    # Upload video to bucket\n",
    "    # supabase.storage.from_(\"videos\").upload(new_video_filename, downloaded_video)\n",
    "    \n",
    "    \n",
    "    # Get the authenticated URL\n",
    "    upload_url = create_upload_response.data.url\n",
    "\n",
    "    # Upload the video file\n",
    "    with open(downloaded_video, 'rb') as file:\n",
    "        requests.put(upload_url, data=file)\n",
    "\n",
    "    # Wait for the asset to become ready\n",
    "    assets_api = mux_python.AssetsApi(mux_python.ApiClient(configuration))\n",
    "    upload_response = direct_uploads_api.get_direct_upload(create_upload_response.data.id)\n",
    "\n",
    "    assert upload_response != None\n",
    "    assert upload_response.data.id != None\n",
    "    assert upload_response.data.id == create_upload_response.data.id\n",
    "\n",
    "    mux_asset_id = upload_response.data.asset_id\n",
    "\n",
    "    # Get the asset details\n",
    "    asset = assets_api.get_asset(mux_asset_id)\n",
    "\n",
    "    # Now you can access the playback_ids\n",
    "    mux_playback_id = asset.data.playback_ids[0].id\n",
    "    \n",
    "    # Get the Mux Playback ID\n",
    "    # mux_playback_id = upload_response.data.playback_ids[0].id\n",
    "\n",
    "    # public_url = supabase.storage.from_(\"videos\").get_public_url(new_video_filename)\n",
    "    # delete_file_and_siblings(downloaded_video)\n",
    "    "
   ]
  },
  {
   "cell_type": "code",
   "execution_count": null,
   "metadata": {},
   "outputs": [],
   "source": [
    "print(mux_playback_id)\n",
    "print(mux_asset_id)"
   ]
  },
  {
   "cell_type": "code",
   "execution_count": null,
   "metadata": {},
   "outputs": [],
   "source": [
    "print(upload_response.data)"
   ]
  }
 ],
 "metadata": {
  "kernelspec": {
   "display_name": "Python 3",
   "language": "python",
   "name": "python3"
  },
  "language_info": {
   "codemirror_mode": {
    "name": "ipython",
    "version": 3
   },
   "file_extension": ".py",
   "mimetype": "text/x-python",
   "name": "python",
   "nbconvert_exporter": "python",
   "pygments_lexer": "ipython3",
   "version": "3.11.3"
  }
 },
 "nbformat": 4,
 "nbformat_minor": 2
}
